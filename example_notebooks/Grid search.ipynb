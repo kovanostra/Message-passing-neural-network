{
 "cells": [
  {
   "cell_type": "markdown",
   "metadata": {},
   "source": [
    "## Install requirements\n",
    "Uncomment and install the requirements"
   ]
  },
  {
   "cell_type": "code",
   "execution_count": null,
   "metadata": {},
   "outputs": [],
   "source": [
    "# !pip install -U message-passing-nn"
   ]
  },
  {
   "cell_type": "markdown",
   "metadata": {},
   "source": [
    "## Clone the repository to get the data folders"
   ]
  },
  {
   "cell_type": "code",
   "execution_count": null,
   "metadata": {},
   "outputs": [],
   "source": [
    "# !git clone https://github.com/kovanostra/message-passing-nn/"
   ]
  },
  {
   "cell_type": "markdown",
   "metadata": {},
   "source": [
    "## Imports"
   ]
  },
  {
   "cell_type": "code",
   "execution_count": null,
   "metadata": {},
   "outputs": [],
   "source": [
    "from message_passing_nn.create_message_passing_nn import create"
   ]
  },
  {
   "cell_type": "markdown",
   "metadata": {},
   "source": [
    "## Initialize a grid search"
   ]
  },
  {
   "cell_type": "code",
   "execution_count": null,
   "metadata": {},
   "outputs": [],
   "source": [
    "message_passing_nn = create(dataset_name='the-name-of-the-directory-containing-your-data',  #e.g. 'sample-dataset/'\n",
    "                           data_directory='the-path-to-the-directory-containing-all-your-datasets', #e.g. '~/message-passing-nn/data/'\n",
    "                           model_directory='model_checkpoints',\n",
    "                           results_directory='grid_search_results',\n",
    "                           model='RNN',\n",
    "                           device='cpu',\n",
    "                           epochs='10&15&2', # This will create a linspace from 10 to 15 with 2 values\n",
    "                           loss_function_selection='MSE',\n",
    "                           optimizer_selection='SGD',\n",
    "                           batch_size='1',\n",
    "                           maximum_number_of_features='-1',\n",
    "                           maximum_number_of_nodes='-1',\n",
    "                           validation_split='0.2&0.3&2', # This will create a linspace from 0.2 to 0.3 with 2 values\n",
    "                           test_split='0.1',\n",
    "                           time_steps='2&5&2',\n",
    "                           validation_period='5&15&3')"
   ]
  },
  {
   "cell_type": "markdown",
   "metadata": {},
   "source": [
    "## Start a grid search"
   ]
  },
  {
   "cell_type": "code",
   "execution_count": null,
   "metadata": {},
   "outputs": [],
   "source": [
    "message_passing_nn.start()"
   ]
  }
 ],
 "metadata": {
  "kernelspec": {
   "display_name": "Python 3",
   "language": "python",
   "name": "python3"
  },
  "language_info": {
   "codemirror_mode": {
    "name": "ipython",
    "version": 3
   },
   "file_extension": ".py",
   "mimetype": "text/x-python",
   "name": "python",
   "nbconvert_exporter": "python",
   "pygments_lexer": "ipython3",
   "version": "3.7.4"
  }
 },
 "nbformat": 4,
 "nbformat_minor": 2
}
